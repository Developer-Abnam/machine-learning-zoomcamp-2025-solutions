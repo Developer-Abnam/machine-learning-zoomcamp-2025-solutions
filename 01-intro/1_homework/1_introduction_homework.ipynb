{
  "cells": [
    {
      "cell_type": "code",
      "execution_count": 2,
      "id": "74fbcf6c-3c22-4a4f-9384-70fbb86f1485",
      "metadata": {
        "id": "74fbcf6c-3c22-4a4f-9384-70fbb86f1485"
      },
      "outputs": [],
      "source": [
        "import pandas as pd"
      ]
    },
    {
      "cell_type": "markdown",
      "source": [
        "# **Q1. Pandas version**"
      ],
      "metadata": {
        "id": "34ak7ETZ25h7"
      },
      "id": "34ak7ETZ25h7"
    },
    {
      "cell_type": "markdown",
      "source": [
        "What's the version of Pandas that you installed?\n",
        "\n",
        "You can get the version information using the __version__ field:"
      ],
      "metadata": {
        "id": "X9DW1Ip93Pt6"
      },
      "id": "X9DW1Ip93Pt6"
    },
    {
      "cell_type": "code",
      "source": [
        "pd.__version__"
      ],
      "metadata": {
        "id": "p0YRMqfK3TIQ",
        "outputId": "797b9ddd-38a1-418a-d8ad-2ae4206bf1a4",
        "colab": {
          "base_uri": "https://localhost:8080/",
          "height": 36
        }
      },
      "id": "p0YRMqfK3TIQ",
      "execution_count": 3,
      "outputs": [
        {
          "output_type": "execute_result",
          "data": {
            "text/plain": [
              "'2.2.2'"
            ],
            "application/vnd.google.colaboratory.intrinsic+json": {
              "type": "string"
            }
          },
          "metadata": {},
          "execution_count": 3
        }
      ]
    },
    {
      "cell_type": "code",
      "source": [],
      "metadata": {
        "id": "mfJ7vazF3UcS"
      },
      "id": "mfJ7vazF3UcS",
      "execution_count": null,
      "outputs": []
    }
  ],
  "metadata": {
    "kernelspec": {
      "display_name": "Python 3 (ipykernel)",
      "language": "python",
      "name": "python3"
    },
    "language_info": {
      "codemirror_mode": {
        "name": "ipython",
        "version": 3
      },
      "file_extension": ".py",
      "mimetype": "text/x-python",
      "name": "python",
      "nbconvert_exporter": "python",
      "pygments_lexer": "ipython3",
      "version": "3.12.1"
    },
    "colab": {
      "provenance": []
    }
  },
  "nbformat": 4,
  "nbformat_minor": 5
}